{
 "cells": [
  {
   "cell_type": "markdown",
   "id": "fc4124e1-5c87-4275-8c90-4019aca13823",
   "metadata": {},
   "source": [
    "# Setup\n",
    "\n",
    "Source: https://wiki.python.org/moin/BitwiseOperators"
   ]
  },
  {
   "cell_type": "code",
   "execution_count": 2,
   "id": "0c317d90-557d-45ce-a93a-52d56b4cf285",
   "metadata": {},
   "outputs": [],
   "source": [
    "def num_to_bin(n):\n",
    "    return f\"{n:b}\""
   ]
  },
  {
   "cell_type": "markdown",
   "id": "83517d34-7107-4b63-b393-b2877a0991f2",
   "metadata": {},
   "source": [
    "# Shift Left"
   ]
  },
  {
   "cell_type": "code",
   "execution_count": 32,
   "id": "f6b9792f-6fb5-4a45-9d00-2e3458bf6d9f",
   "metadata": {},
   "outputs": [
    {
     "data": {
      "text/plain": [
       "'101'"
      ]
     },
     "execution_count": 32,
     "metadata": {},
     "output_type": "execute_result"
    }
   ],
   "source": [
    "a = 5\n",
    "num_to_bin(a)"
   ]
  },
  {
   "cell_type": "code",
   "execution_count": 33,
   "id": "3a7dbe91-16b9-4ce4-b447-b88076f09a91",
   "metadata": {},
   "outputs": [
    {
     "data": {
      "text/plain": [
       "'10'"
      ]
     },
     "execution_count": 33,
     "metadata": {},
     "output_type": "execute_result"
    }
   ],
   "source": [
    "b = 2\n",
    "num_to_bin(b)"
   ]
  },
  {
   "cell_type": "markdown",
   "id": "14370f3b-9f6e-467b-bdc5-8b2cdad5fe3b",
   "metadata": {},
   "source": [
    "Move the bits of `a` by `b` places to the left (replace with 0s):"
   ]
  },
  {
   "cell_type": "code",
   "execution_count": 40,
   "id": "ef955063-5672-4f7c-9675-7a1fbb8bf0c7",
   "metadata": {},
   "outputs": [
    {
     "data": {
      "text/plain": [
       "'10100'"
      ]
     },
     "execution_count": 40,
     "metadata": {},
     "output_type": "execute_result"
    }
   ],
   "source": [
    "num_to_bin(a << b)"
   ]
  },
  {
   "cell_type": "code",
   "execution_count": 41,
   "id": "a5889132-ba22-4a15-a8b3-2824beae1d4f",
   "metadata": {},
   "outputs": [
    {
     "data": {
      "text/plain": [
       "20"
      ]
     },
     "execution_count": 41,
     "metadata": {},
     "output_type": "execute_result"
    }
   ],
   "source": [
    "a << b"
   ]
  },
  {
   "cell_type": "markdown",
   "id": "990939cc-dac9-4553-8472-8e4e4c01dd53",
   "metadata": {},
   "source": [
    "# Shift Right"
   ]
  },
  {
   "cell_type": "code",
   "execution_count": 63,
   "id": "58c8cec0-68bb-40b4-b045-3e4c2694d93a",
   "metadata": {},
   "outputs": [
    {
     "data": {
      "text/plain": [
       "'1011'"
      ]
     },
     "execution_count": 63,
     "metadata": {},
     "output_type": "execute_result"
    }
   ],
   "source": [
    "a = 11\n",
    "num_to_bin(a)"
   ]
  },
  {
   "cell_type": "code",
   "execution_count": 64,
   "id": "f2fbfc15-45e5-4ae7-aad7-a3c89dccae7d",
   "metadata": {},
   "outputs": [
    {
     "data": {
      "text/plain": [
       "'10'"
      ]
     },
     "execution_count": 64,
     "metadata": {},
     "output_type": "execute_result"
    }
   ],
   "source": [
    "b = 2\n",
    "num_to_bin(b)"
   ]
  },
  {
   "cell_type": "markdown",
   "id": "43d9cfb5-f854-4386-98d3-c72c1ef8a5c8",
   "metadata": {},
   "source": [
    "Cut the last `b` bits of `a` and add `b` zeros in front:"
   ]
  },
  {
   "cell_type": "code",
   "execution_count": 66,
   "id": "81e38b89-ed0d-4f25-a908-46cf4702f2d7",
   "metadata": {},
   "outputs": [
    {
     "data": {
      "text/plain": [
       "'10'"
      ]
     },
     "execution_count": 66,
     "metadata": {},
     "output_type": "execute_result"
    }
   ],
   "source": [
    "num_to_bin(a >> b)"
   ]
  },
  {
   "cell_type": "code",
   "execution_count": 67,
   "id": "911ee48c-a83d-4e16-8192-2f527f5d74e2",
   "metadata": {},
   "outputs": [
    {
     "data": {
      "text/plain": [
       "2"
      ]
     },
     "execution_count": 67,
     "metadata": {},
     "output_type": "execute_result"
    }
   ],
   "source": [
    "a >> b"
   ]
  },
  {
   "cell_type": "markdown",
   "id": "c2164fa9-6dd3-40bd-9f34-69308721adbd",
   "metadata": {},
   "source": [
    "# Bitwise And"
   ]
  },
  {
   "cell_type": "code",
   "execution_count": 68,
   "id": "faa8c7d0-3092-4b91-a713-d77821638ed6",
   "metadata": {},
   "outputs": [
    {
     "data": {
      "text/plain": [
       "'1011'"
      ]
     },
     "execution_count": 68,
     "metadata": {},
     "output_type": "execute_result"
    }
   ],
   "source": [
    "num_to_bin(a)"
   ]
  },
  {
   "cell_type": "code",
   "execution_count": 69,
   "id": "3fa79404-ca16-4c48-9bb6-cddd3984ef51",
   "metadata": {},
   "outputs": [
    {
     "data": {
      "text/plain": [
       "'10'"
      ]
     },
     "execution_count": 69,
     "metadata": {},
     "output_type": "execute_result"
    }
   ],
   "source": [
    "num_to_bin(b)"
   ]
  },
  {
   "cell_type": "code",
   "execution_count": 70,
   "id": "4d4253dd-256c-4b07-a66e-bddd0d062e41",
   "metadata": {},
   "outputs": [
    {
     "data": {
      "text/plain": [
       "'10'"
      ]
     },
     "execution_count": 70,
     "metadata": {},
     "output_type": "execute_result"
    }
   ],
   "source": [
    "num_to_bin(a & b)"
   ]
  },
  {
   "cell_type": "markdown",
   "id": "bfa5cb96-0813-423e-80bf-a36f04256c3b",
   "metadata": {},
   "source": [
    "# Bitwise Or"
   ]
  },
  {
   "cell_type": "code",
   "execution_count": 71,
   "id": "c3e89570-8db1-4c36-bce4-16290fde225c",
   "metadata": {},
   "outputs": [
    {
     "data": {
      "text/plain": [
       "'1011'"
      ]
     },
     "execution_count": 71,
     "metadata": {},
     "output_type": "execute_result"
    }
   ],
   "source": [
    "num_to_bin(a)"
   ]
  },
  {
   "cell_type": "code",
   "execution_count": 72,
   "id": "33be0b3a-814c-4df4-a980-adab6018d0d3",
   "metadata": {},
   "outputs": [
    {
     "data": {
      "text/plain": [
       "'10'"
      ]
     },
     "execution_count": 72,
     "metadata": {},
     "output_type": "execute_result"
    }
   ],
   "source": [
    "num_to_bin(b)"
   ]
  },
  {
   "cell_type": "code",
   "execution_count": 73,
   "id": "a79b349e-3c26-4d05-a0af-bbf0c8c703b4",
   "metadata": {},
   "outputs": [
    {
     "data": {
      "text/plain": [
       "'1011'"
      ]
     },
     "execution_count": 73,
     "metadata": {},
     "output_type": "execute_result"
    }
   ],
   "source": [
    "num_to_bin(a | b)"
   ]
  },
  {
   "cell_type": "markdown",
   "id": "8d607867-dad7-47cc-8815-12dc323800c9",
   "metadata": {},
   "source": [
    "# Complement"
   ]
  },
  {
   "cell_type": "code",
   "execution_count": 119,
   "id": "3a5c7f51-6e6c-4b24-b79a-544d6c446b77",
   "metadata": {},
   "outputs": [],
   "source": [
    "a = 12"
   ]
  },
  {
   "cell_type": "code",
   "execution_count": 120,
   "id": "f9b74a9a-3124-4c2e-b660-f88fa3b56d96",
   "metadata": {},
   "outputs": [
    {
     "data": {
      "text/plain": [
       "'1100'"
      ]
     },
     "execution_count": 120,
     "metadata": {},
     "output_type": "execute_result"
    }
   ],
   "source": [
    "num_to_bin(a)"
   ]
  },
  {
   "cell_type": "markdown",
   "id": "0728118c-034d-4df7-a3e6-8c266c0d7464",
   "metadata": {},
   "source": [
    "The complement of `a` is not simply flipping the bits:"
   ]
  },
  {
   "cell_type": "code",
   "execution_count": 121,
   "id": "a349c884-11ce-425c-b875-da2f786395f4",
   "metadata": {},
   "outputs": [
    {
     "data": {
      "text/plain": [
       "'-1101'"
      ]
     },
     "execution_count": 121,
     "metadata": {},
     "output_type": "execute_result"
    }
   ],
   "source": [
    "num_to_bin(~ a)"
   ]
  },
  {
   "cell_type": "markdown",
   "id": "3ec52179-69d2-4b08-98fe-ce566547c566",
   "metadata": {},
   "source": [
    "The complement of `a` is to take the negative of `a + 1`:"
   ]
  },
  {
   "cell_type": "code",
   "execution_count": 122,
   "id": "5d31ef11-b06c-414c-8ff4-94796346769b",
   "metadata": {},
   "outputs": [
    {
     "data": {
      "text/plain": [
       "'-1101'"
      ]
     },
     "execution_count": 122,
     "metadata": {},
     "output_type": "execute_result"
    }
   ],
   "source": [
    "num_to_bin(-(a + 1))"
   ]
  },
  {
   "cell_type": "markdown",
   "id": "00058859-8a76-4575-9a1b-f9b5b2602e3c",
   "metadata": {},
   "source": [
    "# Bitwise Exclusive Or"
   ]
  },
  {
   "cell_type": "code",
   "execution_count": 126,
   "id": "95332669-65e0-48cc-8215-4c326d138ed0",
   "metadata": {},
   "outputs": [],
   "source": [
    "a_bin = num_to_bin(a)"
   ]
  },
  {
   "cell_type": "code",
   "execution_count": 127,
   "id": "87b4ac0b-c549-4561-8b0f-cf2c875ab50d",
   "metadata": {},
   "outputs": [],
   "source": [
    "b_bin = num_to_bin(b)"
   ]
  },
  {
   "cell_type": "code",
   "execution_count": 134,
   "id": "355970e5-1f9a-4a15-acae-71620235c94b",
   "metadata": {},
   "outputs": [
    {
     "name": "stdout",
     "output_type": "stream",
     "text": [
      "  1100\n",
      "101010\n"
     ]
    }
   ],
   "source": [
    "print(f\"{a_bin:>6}\")\n",
    "print(f\"{b_bin:>6}\")"
   ]
  },
  {
   "cell_type": "code",
   "execution_count": 136,
   "id": "9d3c7cc3-d64b-4aa2-965b-f0395c018ccc",
   "metadata": {},
   "outputs": [
    {
     "name": "stdout",
     "output_type": "stream",
     "text": [
      "100110\n"
     ]
    }
   ],
   "source": [
    "print(f\"{num_to_bin(a ^ b):>6}\")"
   ]
  },
  {
   "cell_type": "markdown",
   "id": "ed3282bb-4ca0-4fdb-9fd8-982086c2d934",
   "metadata": {},
   "source": [
    "# Precedence"
   ]
  },
  {
   "cell_type": "markdown",
   "id": "d6a8550c-4291-46ba-bf27-14855c45dfc5",
   "metadata": {},
   "source": [
    "Shift has precedence!"
   ]
  },
  {
   "cell_type": "code",
   "execution_count": 137,
   "id": "cf7a2ccc-9a08-4fa9-9b8b-732bd7e57a12",
   "metadata": {},
   "outputs": [
    {
     "data": {
      "text/plain": [
       "12"
      ]
     },
     "execution_count": 137,
     "metadata": {},
     "output_type": "execute_result"
    }
   ],
   "source": [
    "a"
   ]
  },
  {
   "cell_type": "code",
   "execution_count": 138,
   "id": "33bfe33e-cff2-429c-a608-938e04690b83",
   "metadata": {},
   "outputs": [
    {
     "data": {
      "text/plain": [
       "42"
      ]
     },
     "execution_count": 138,
     "metadata": {},
     "output_type": "execute_result"
    }
   ],
   "source": [
    "b"
   ]
  },
  {
   "cell_type": "code",
   "execution_count": 139,
   "id": "9413fdad-34cf-4f85-9180-775c543eb2db",
   "metadata": {},
   "outputs": [
    {
     "data": {
      "text/plain": [
       "0"
      ]
     },
     "execution_count": 139,
     "metadata": {},
     "output_type": "execute_result"
    }
   ],
   "source": [
    "a >> b & 0b10"
   ]
  },
  {
   "cell_type": "code",
   "execution_count": 140,
   "id": "bf6b8b8d-d1a4-4352-840d-2fddd5cd77ec",
   "metadata": {},
   "outputs": [
    {
     "data": {
      "text/plain": [
       "3"
      ]
     },
     "execution_count": 140,
     "metadata": {},
     "output_type": "execute_result"
    }
   ],
   "source": [
    "a >> (b & 0b10)"
   ]
  },
  {
   "cell_type": "code",
   "execution_count": 141,
   "id": "37fd579e-1928-456f-92a9-57a30b828826",
   "metadata": {},
   "outputs": [
    {
     "data": {
      "text/plain": [
       "0"
      ]
     },
     "execution_count": 141,
     "metadata": {},
     "output_type": "execute_result"
    }
   ],
   "source": [
    "(a >> b) & 0b10"
   ]
  }
 ],
 "metadata": {
  "kernelspec": {
   "display_name": "Python 3 (ipykernel)",
   "language": "python",
   "name": "python3"
  },
  "language_info": {
   "codemirror_mode": {
    "name": "ipython",
    "version": 3
   },
   "file_extension": ".py",
   "mimetype": "text/x-python",
   "name": "python",
   "nbconvert_exporter": "python",
   "pygments_lexer": "ipython3",
   "version": "3.9.7"
  }
 },
 "nbformat": 4,
 "nbformat_minor": 5
}
