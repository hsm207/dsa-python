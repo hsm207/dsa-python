{
 "cells": [
  {
   "cell_type": "markdown",
   "id": "5f20849a-ed3a-47b4-b8ca-e99321fb6d29",
   "metadata": {},
   "source": [
    "Use tuple unpacking to swap variables."
   ]
  },
  {
   "cell_type": "markdown",
   "id": "b4c40f60-693f-4842-9b6b-699a694a2bb4",
   "metadata": {},
   "source": [
    "An iterative version of the `fib` function:"
   ]
  },
  {
   "cell_type": "code",
   "execution_count": 1,
   "id": "ece4914d-bcee-4eba-b06a-e67e8d3ddd7c",
   "metadata": {},
   "outputs": [],
   "source": [
    "def fib(n):\n",
    "    if n == 0:\n",
    "        return 0\n",
    "    \n",
    "    prev_num = 0\n",
    "    next_num = 1\n",
    "    \n",
    "    for _ in range(1, n):\n",
    "        temp = next_num\n",
    "        next_num = next_num + prev_num\n",
    "        prev_num = temp\n",
    "    \n",
    "    return next_num"
   ]
  },
  {
   "cell_type": "code",
   "execution_count": 2,
   "id": "2ffc0097-3b3e-468a-996f-00f03bb22d7d",
   "metadata": {},
   "outputs": [
    {
     "data": {
      "text/plain": [
       "[0, 1, 1, 2, 3, 5, 8, 13, 21, 34, 55]"
      ]
     },
     "execution_count": 2,
     "metadata": {},
     "output_type": "execute_result"
    }
   ],
   "source": [
    "[fib(i) for i in range(11)]"
   ]
  },
  {
   "cell_type": "markdown",
   "id": "971b4cf8-b1ad-4a15-986c-cf2ff31e0fc1",
   "metadata": {},
   "source": [
    "We can use tuple unpacking to eliminate the use of the `temp` variable:"
   ]
  },
  {
   "cell_type": "code",
   "execution_count": 3,
   "id": "5b9d0869-96bc-491a-beb2-5aed7ddb8455",
   "metadata": {},
   "outputs": [],
   "source": [
    "def fib2(n):\n",
    "    if n == 0:\n",
    "        return 0\n",
    "    \n",
    "    prev_num = 0\n",
    "    next_num = 1\n",
    "    \n",
    "    for _ in range(1, n):      \n",
    "        prev_num, next_num = next_num, next_num + prev_num\n",
    "    \n",
    "    return next_num"
   ]
  },
  {
   "cell_type": "code",
   "execution_count": 4,
   "id": "5731fe5e-161f-4fca-a656-8d1f290ebb8e",
   "metadata": {},
   "outputs": [
    {
     "data": {
      "text/plain": [
       "[0, 1, 1, 2, 3, 5, 8, 13, 21, 34, 55]"
      ]
     },
     "execution_count": 4,
     "metadata": {},
     "output_type": "execute_result"
    }
   ],
   "source": [
    "[fib2(i) for i in range(11)]"
   ]
  }
 ],
 "metadata": {
  "kernelspec": {
   "display_name": "Python 3 (ipykernel)",
   "language": "python",
   "name": "python3"
  },
  "language_info": {
   "codemirror_mode": {
    "name": "ipython",
    "version": 3
   },
   "file_extension": ".py",
   "mimetype": "text/x-python",
   "name": "python",
   "nbconvert_exporter": "python",
   "pygments_lexer": "ipython3",
   "version": "3.9.7"
  }
 },
 "nbformat": 4,
 "nbformat_minor": 5
}
